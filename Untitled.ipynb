{
 "cells": [
  {
   "cell_type": "code",
   "execution_count": 1,
   "id": "209e5f59",
   "metadata": {},
   "outputs": [
    {
     "name": "stdout",
     "output_type": "stream",
     "text": [
      "        ID                                               Text ContainsCode  \\\n",
      "0        1  Test-driven development (TDD) is a software de...                \n",
      "1        2  Software development is an exciting field that...        False   \n",
      "2        3  The development process often starts with a co...                \n",
      "3        4  Another important aspect of software developme...         True   \n",
      "4        5  In the world of software development, language...        False   \n",
      "...    ...                                                ...          ...   \n",
      "1903  1904  Software development, an integral part of any ...         True   \n",
      "1904  1905  In the world of software development, one of t...        False   \n",
      "1905  1906  Web development is a popular field in software...                \n",
      "1906  1907  C++ is a general-purpose programming language ...                \n",
      "1907  1908  Mobile app development is a type of software d...        False   \n",
      "\n",
      "                                           CodeList  \n",
      "0                                                    \n",
      "1                                                    \n",
      "2                                                    \n",
      "3                    git commit -m 'Initial commit'  \n",
      "4                                                    \n",
      "...                                             ...  \n",
      "1903  List<String> names = new ArrayList<String>();  \n",
      "1904                                                 \n",
      "1905                                                 \n",
      "1906                                                 \n",
      "1907                                                 \n",
      "\n",
      "[1908 rows x 4 columns]\n"
     ]
    }
   ],
   "source": [
    "import pandas as pd\n",
    "df = pd.read_json(\"./data/datafinal.json\")\n",
    "print(df)"
   ]
  },
  {
   "cell_type": "code",
   "execution_count": null,
   "id": "f93055fa",
   "metadata": {},
   "outputs": [],
   "source": [
    "df.info()"
   ]
  },
  {
   "cell_type": "code",
   "execution_count": null,
   "id": "ae778c0a",
   "metadata": {},
   "outputs": [],
   "source": [
    "df[\"CodeList\"].fillna(\"\",inplace=True) ## Incase if it contain any NaN values"
   ]
  },
  {
   "cell_type": "code",
   "execution_count": null,
   "id": "6d2a63e7",
   "metadata": {},
   "outputs": [],
   "source": [
    "from sklearn.preprocessing import MultiLabelBinarizer\n",
    "mlb = MultiLabelBinarizer()\n",
    "s1 = df[\"CodeList\"]\n",
    "t1 = mlb.fit_transform(s1)\n",
    "\n",
    "submission = pd.DataFrame(t1)\n",
    "\n",
    "print(submission)"
   ]
  },
  {
   "cell_type": "code",
   "execution_count": null,
   "id": "f5ce2a48",
   "metadata": {},
   "outputs": [],
   "source": [
    "submission.to_csv(\"submission.csv\",index=False)"
   ]
  }
 ],
 "metadata": {
  "kernelspec": {
   "display_name": "Python 3 (ipykernel)",
   "language": "python",
   "name": "python3"
  },
  "language_info": {
   "codemirror_mode": {
    "name": "ipython",
    "version": 3
   },
   "file_extension": ".py",
   "mimetype": "text/x-python",
   "name": "python",
   "nbconvert_exporter": "python",
   "pygments_lexer": "ipython3",
   "version": "3.9.16"
  }
 },
 "nbformat": 4,
 "nbformat_minor": 5
}
