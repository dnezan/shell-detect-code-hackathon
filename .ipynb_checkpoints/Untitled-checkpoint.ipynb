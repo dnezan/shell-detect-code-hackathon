{
 "cells": [
  {
   "cell_type": "code",
   "execution_count": null,
   "id": "575adb95",
   "metadata": {},
   "outputs": [],
   "source": [
    "import pandas as pd\n",
    "df = pd.read_json(\"./data/datafinal.json\")\n",
    "print(df)"
   ]
  },
  {
   "cell_type": "code",
   "execution_count": null,
   "id": "fa83f2dc",
   "metadata": {},
   "outputs": [],
   "source": [
    "df.info()"
   ]
  },
  {
   "cell_type": "code",
   "execution_count": null,
   "id": "73ef4979",
   "metadata": {},
   "outputs": [],
   "source": [
    "df[\"CodeList\"].fillna(\"\",inplace=True) ## Incase if it contain any NaN values"
   ]
  },
  {
   "cell_type": "code",
   "execution_count": null,
   "id": "e30bc5ea",
   "metadata": {},
   "outputs": [],
   "source": [
    "from sklearn.preprocessing import MultiLabelBinarizer\n",
    "mlb = MultiLabelBinarizer()\n",
    "s1 = df[\"CodeList\"]\n",
    "t1 = mlb.fit_transform(s1)\n",
    "\n",
    "submission = pd.DataFrame(t1)\n",
    "\n",
    "print(submission)"
   ]
  },
  {
   "cell_type": "code",
   "execution_count": null,
   "id": "bfd5c1e6",
   "metadata": {},
   "outputs": [],
   "source": [
    "submission.to_csv(\"submission.csv\",index=False)"
   ]
  }
 ],
 "metadata": {
  "kernelspec": {
   "display_name": "Python 3 (ipykernel)",
   "language": "python",
   "name": "python3"
  },
  "language_info": {
   "codemirror_mode": {
    "name": "ipython",
    "version": 3
   },
   "file_extension": ".py",
   "mimetype": "text/x-python",
   "name": "python",
   "nbconvert_exporter": "python",
   "pygments_lexer": "ipython3",
   "version": "3.9.16"
  }
 },
 "nbformat": 4,
 "nbformat_minor": 5
}
